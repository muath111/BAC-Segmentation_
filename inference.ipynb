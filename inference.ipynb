{
 "cells": [
  {
   "cell_type": "code",
   "execution_count": null,
   "id": "adf23a1c",
   "metadata": {},
   "outputs": [],
   "source": [
    "# Standard library imports\n",
    "import os\n",
    "import random\n",
    "import warnings\n",
    "\n",
    "# Third-party imports\n",
    "import cv2\n",
    "import numpy as np\n",
    "from keras import backend as K\n",
    "from PIL import Image\n",
    "from skimage.io import imread\n",
    "import nbimporter\n",
    "from unet_model import UNET\n",
    "from skimage.transform import resize\n",
    "\n",
    "# Setting up matplotlib to work interactively in a Jupyter environment\n",
    "%matplotlib inline\n",
    "\n",
    "# Setting the seed for reproducibility\n",
    "seed_value = 42\n",
    "random.seed(seed_value)  # For Python's built-in random module\n",
    "np.random.seed(seed_value)  # For NumPy\n",
    "\n",
    "# Don't show warning messages\n",
    "warnings.filterwarnings('ignore')\n"
   ]
  },
  {
   "cell_type": "code",
   "execution_count": null,
   "id": "2e752bd0",
   "metadata": {},
   "outputs": [],
   "source": [
    "def pred_and_save_original_size(model, fn):\n",
    "    # Read the image in grayscale\n",
    "    image = cv2.imread(input_data_path + fn, 0)\n",
    "\n",
    "    # Store the original image dimensions\n",
    "    original_size = image.shape\n",
    "\n",
    "    # Preprocess the image\n",
    "    image = cv2.resize(image, (IMG_WIDTH, IMG_HEIGHT))/255.\n",
    "    image = (image - mean)/std\n",
    "    \n",
    "    # Predict the mask\n",
    "    test_preds = model.predict(image.reshape(1,IMG_WIDTH,IMG_HEIGHT,1), verbose = 0)\n",
    "    preds_test_thresh = (test_preds >= 0.5).astype(np.uint8)\n",
    "\n",
    "    # Resize the mask to the original size of the image\n",
    "    preds_test_thresh_resized = cv2.resize(preds_test_thresh[0], (original_size[1], original_size[0]))\n",
    "\n",
    "    # Save the mask\n",
    "#     cv2.imwrite(output_mask_path_orig_size + 'M' + fn, preds_test_thresh_resized*255)\n",
    "    cv2.imwrite(output_mask_path_orig_size + fn, preds_test_thresh_resized*255)\n"
   ]
  },
  {
   "cell_type": "markdown",
   "id": "f02e6a29",
   "metadata": {},
   "source": [
    "#  Sample Usage"
   ]
  },
  {
   "cell_type": "code",
   "execution_count": null,
   "id": "c0596e7d",
   "metadata": {},
   "outputs": [],
   "source": [
    "gpus = tf.config.list_physical_devices('GPU')\n",
    "if gpus:\n",
    "  try:\n",
    "    # Currently, memory growth needs to be the same across GPUs\n",
    "    for gpu in gpus:\n",
    "\n",
    "      tf.config.experimental.set_memory_growth(gpu, True)\n",
    "    logical_gpus = tf.config.list_logical_devices('GPU')\n",
    "    print(len(gpus), \"Physical GPUs,\", len(logical_gpus), \"Logical GPUs\")\n",
    "  except RuntimeError as e:\n",
    "    # Memory growth must be set before GPUs have been initialized\n",
    "    print(e)\n",
    "    "
   ]
  },
  {
   "cell_type": "code",
   "execution_count": null,
   "id": "fc6ea728",
   "metadata": {},
   "outputs": [],
   "source": [
    "input_data_path = r'< PATH_TO_INPUT >'\n",
    "output_mask_path_orig_size = r'< PATH_TO_INPUT_MASK >'\n",
    "\n",
    "# Create empty arrays\n",
    "IMG_HEIGHT = 1024\n",
    "IMG_WIDTH = 1024\n",
    "IMG_CHANNELS = 1\n",
    "per_image_norm = False\n",
    "\n",
    "# Add these constants for brightness, saturation, and hue adjustments\n",
    "BRIGHTNESS = 0.2\n",
    "SATURATION = 0.3\n",
    "HUE = 0.25\n",
    "\n",
    "# load model\n",
    "base_ptch_1024 = UNET(IMG_HEIGHT)\n",
    "base_ptch_1024.model.load_weights('path_to_your_trained_model.h5')\n",
    "\n",
    "# Get the list of test data\n",
    "input_data_list = os.listdir(input_data_path)\n",
    "\n",
    "# Perform prediction and save results\n",
    "for fn in input_data_list:\n",
    "    pred_and_save_original_size(base_ptch_1024.model, fn)"
   ]
  },
  {
   "cell_type": "code",
   "execution_count": null,
   "id": "36ed42ec",
   "metadata": {},
   "outputs": [],
   "source": []
  }
 ],
 "metadata": {
  "kernelspec": {
   "display_name": "Python 3 (ipykernel)",
   "language": "python",
   "name": "python3"
  },
  "language_info": {
   "codemirror_mode": {
    "name": "ipython",
    "version": 3
   },
   "file_extension": ".py",
   "mimetype": "text/x-python",
   "name": "python",
   "nbconvert_exporter": "python",
   "pygments_lexer": "ipython3",
   "version": "3.7.13"
  }
 },
 "nbformat": 4,
 "nbformat_minor": 5
}
